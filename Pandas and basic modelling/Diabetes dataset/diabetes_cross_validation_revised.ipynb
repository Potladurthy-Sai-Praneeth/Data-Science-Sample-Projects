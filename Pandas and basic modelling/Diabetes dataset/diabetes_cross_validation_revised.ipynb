{
 "cells": [
  {
   "cell_type": "markdown",
   "id": "f5074219-7448-4bc3-b680-63c7e7315f39",
   "metadata": {},
   "source": [
    "# COMP 7150 Assignment 5\n",
    "\n",
    "Due: April 4, 2023 before midnight."
   ]
  },
  {
   "cell_type": "markdown",
   "id": "37b32ec3-3ec5-4c27-ae64-0d40609a26d4",
   "metadata": {},
   "source": [
    "NAME: _______________"
   ]
  },
  {
   "cell_type": "markdown",
   "id": "f36b0732-eadd-421f-9181-547e8570e7f1",
   "metadata": {},
   "source": [
    "---\n",
    "\n",
    "**How each problem is graded**\n",
    "\n",
    "This is a general guideline.  There might be some variant for a specific problem.\n",
    "\n",
    "* Answering the question in English: 25%\n",
    "    + Thorough answering the question, explaning the findings, discussing the comparison: 10-25%\n",
    "    + Not answering the question in English: 0%.\n",
    "    + Note: An answer is written in English to address a specific question. The answer must come first.  \n",
    "* Code: 50%\n",
    "    + Code is correct: 50%\n",
    "    + Code is correct, but missing some minor elements: 25-40%\n",
    "    + Incorrect solution, but make an effort: 10%-25%\n",
    "    + Empty: 0% \n",
    "    + Note: code is not an answer. Code shows how you get an answer.  Code comes after an answer.\n",
    "* Explanation of code: 10%\n",
    "    + Concise English explanation of solution/code: 10%\n",
    "    + No explanation: 0%\n",
    "* Testing: 15%\n",
    "    + Providing adequate testing of code: 15%\n",
    "    + Code operational but does not show how the answer(s) were generated: 5%\n",
    "    + Code not runnable or no testing: 0%\n",
    "\n",
    "\n",
    "**How to turn in your assignment**\n",
    "\n",
    "+ Export your notebook to an HTML file.\n",
    "+ Upload it to the appropriate folder in Assignments on Canvas."
   ]
  },
  {
   "cell_type": "markdown",
   "id": "f7db3e6a-d75f-4737-8cb6-bfc753e07c09",
   "metadata": {},
   "source": [
    "#### Dataset\n",
    "\n",
    "The dataset you'll used for this assignment is diabetes.csv\n",
    "\n",
    "The target variable is Outcome. The other 8 variables are features.\n",
    "\n",
    "This dataset was collected from pregnant women.  Each row corresponds to a person.  An Outcome of 0 means the person is not diagnosed with diabetes.  An Outcome of 1 means the person is diagnosed with diabetes."
   ]
  },
  {
   "cell_type": "markdown",
   "id": "6e778bb1-8efd-4696-9aa9-a317228ab218",
   "metadata": {},
   "source": [
    "**Each problem is worth 20 points.**"
   ]
  },
  {
   "cell_type": "code",
   "execution_count": 1,
   "id": "e57682ed-20c2-4a2b-8039-a89904ee68a9",
   "metadata": {},
   "outputs": [],
   "source": [
    "import pandas as pd\n",
    "import numpy as np\n",
    "import seaborn as sns\n",
    "sns.set()\n",
    "import matplotlib.pyplot as plt\n",
    "\n",
    "diabetes = pd.read_csv('./../Sem_2/Diabetes/diabetes.csv')"
   ]
  },
  {
   "cell_type": "code",
   "execution_count": 2,
   "id": "73e97cc9-88b1-4ee4-b7ee-b48631e23e63",
   "metadata": {},
   "outputs": [
    {
     "name": "stdout",
     "output_type": "stream",
     "text": [
      "(768, 9)\n"
     ]
    },
    {
     "data": {
      "text/html": [
       "<div>\n",
       "<style scoped>\n",
       "    .dataframe tbody tr th:only-of-type {\n",
       "        vertical-align: middle;\n",
       "    }\n",
       "\n",
       "    .dataframe tbody tr th {\n",
       "        vertical-align: top;\n",
       "    }\n",
       "\n",
       "    .dataframe thead th {\n",
       "        text-align: right;\n",
       "    }\n",
       "</style>\n",
       "<table border=\"1\" class=\"dataframe\">\n",
       "  <thead>\n",
       "    <tr style=\"text-align: right;\">\n",
       "      <th></th>\n",
       "      <th>Pregnancies</th>\n",
       "      <th>Glucose</th>\n",
       "      <th>BloodPressure</th>\n",
       "      <th>SkinThickness</th>\n",
       "      <th>Insulin</th>\n",
       "      <th>BMI</th>\n",
       "      <th>DiabetesPedigreeFunction</th>\n",
       "      <th>Age</th>\n",
       "      <th>Outcome</th>\n",
       "    </tr>\n",
       "  </thead>\n",
       "  <tbody>\n",
       "    <tr>\n",
       "      <th>0</th>\n",
       "      <td>6</td>\n",
       "      <td>148</td>\n",
       "      <td>72</td>\n",
       "      <td>35</td>\n",
       "      <td>0</td>\n",
       "      <td>33.6</td>\n",
       "      <td>0.627</td>\n",
       "      <td>50</td>\n",
       "      <td>1</td>\n",
       "    </tr>\n",
       "    <tr>\n",
       "      <th>1</th>\n",
       "      <td>1</td>\n",
       "      <td>85</td>\n",
       "      <td>66</td>\n",
       "      <td>29</td>\n",
       "      <td>0</td>\n",
       "      <td>26.6</td>\n",
       "      <td>0.351</td>\n",
       "      <td>31</td>\n",
       "      <td>0</td>\n",
       "    </tr>\n",
       "    <tr>\n",
       "      <th>2</th>\n",
       "      <td>8</td>\n",
       "      <td>183</td>\n",
       "      <td>64</td>\n",
       "      <td>0</td>\n",
       "      <td>0</td>\n",
       "      <td>23.3</td>\n",
       "      <td>0.672</td>\n",
       "      <td>32</td>\n",
       "      <td>1</td>\n",
       "    </tr>\n",
       "    <tr>\n",
       "      <th>3</th>\n",
       "      <td>1</td>\n",
       "      <td>89</td>\n",
       "      <td>66</td>\n",
       "      <td>23</td>\n",
       "      <td>94</td>\n",
       "      <td>28.1</td>\n",
       "      <td>0.167</td>\n",
       "      <td>21</td>\n",
       "      <td>0</td>\n",
       "    </tr>\n",
       "    <tr>\n",
       "      <th>4</th>\n",
       "      <td>0</td>\n",
       "      <td>137</td>\n",
       "      <td>40</td>\n",
       "      <td>35</td>\n",
       "      <td>168</td>\n",
       "      <td>43.1</td>\n",
       "      <td>2.288</td>\n",
       "      <td>33</td>\n",
       "      <td>1</td>\n",
       "    </tr>\n",
       "  </tbody>\n",
       "</table>\n",
       "</div>"
      ],
      "text/plain": [
       "   Pregnancies  Glucose  BloodPressure  SkinThickness  Insulin   BMI  \\\n",
       "0            6      148             72             35        0  33.6   \n",
       "1            1       85             66             29        0  26.6   \n",
       "2            8      183             64              0        0  23.3   \n",
       "3            1       89             66             23       94  28.1   \n",
       "4            0      137             40             35      168  43.1   \n",
       "\n",
       "   DiabetesPedigreeFunction  Age  Outcome  \n",
       "0                     0.627   50        1  \n",
       "1                     0.351   31        0  \n",
       "2                     0.672   32        1  \n",
       "3                     0.167   21        0  \n",
       "4                     2.288   33        1  "
      ]
     },
     "execution_count": 2,
     "metadata": {},
     "output_type": "execute_result"
    }
   ],
   "source": [
    "print(diabetes.shape)\n",
    "diabetes.head()\n"
   ]
  },
  {
   "cell_type": "markdown",
   "id": "2ddb4251-6177-4df6-88d3-c3ed8d185391",
   "metadata": {},
   "source": [
    "---\n",
    "\n",
    "**Problem 1**\n",
    "\n",
    "Suppose that you want to compare these two methods of cross validation: shuffle and split, and 12-fold cross validation.\n",
    "\n",
    "With shuffle and split, you will probably want to specify the same number test data points and training data points as 12-fold cross validation.\n",
    "\n",
    "How many test data points do you have to set in shuffle split to ensure that the two methods have the same number of test data points (and consequently train data points)?\n",
    "\n"
   ]
  },
  {
   "cell_type": "markdown",
   "id": "4f1f2ea6",
   "metadata": {},
   "source": [
    "1) From the shape of the dataset there are 768 data points. As per the KFold cross validation with k=12, the entire data is split into 12 equal subsets i.e 12 * 64.\n",
    "2) Thus we have a train set of 11*64 rows and test set of 64 rows\n",
    "3) Finally the data must have 704 train data points and 64 test data points for comparing both cross validation methods"
   ]
  },
  {
   "cell_type": "code",
   "execution_count": 3,
   "id": "e8de56ac",
   "metadata": {},
   "outputs": [
    {
     "name": "stdout",
     "output_type": "stream",
     "text": [
      "No. of train data points are 704 and no. of test data points are 64\n"
     ]
    }
   ],
   "source": [
    "# Let us verify this using the KFold\n",
    "from sklearn.model_selection import KFold\n",
    "\n",
    "kfold=KFold(n_splits=12,random_state=42,shuffle=True)\n",
    "\n",
    "for train,test in kfold.split(diabetes):\n",
    "    print(f'No. of train data points are {len(train)} and no. of test data points are {len(test)}')\n",
    "    break"
   ]
  },
  {
   "cell_type": "markdown",
   "id": "8e0eaa39-2097-4ec9-9978-1facf9483f1d",
   "metadata": {},
   "source": [
    "---\n",
    "\n",
    "**Problem 2**\n",
    "\n",
    "Sklearn's KFold cross validation has a parameter called \"shuffle\".  If this parameter is set to True, the data is shuffled randomly before the cross validation begins.\n",
    "\n",
    "Use sklearn's KFold and cross_validate to implement a function that randomly perform 5-Fold cross validation 5 times on given a model and data, as specified below."
   ]
  },
  {
   "cell_type": "code",
   "execution_count": 4,
   "id": "32cdb69e-b05b-4d62-b074-f4afb47bec6a",
   "metadata": {},
   "outputs": [],
   "source": [
    "#\n",
    "# Input: model, features (X), target (y)\n",
    "# Output: average f1 score of the cross validation\n",
    "#\n",
    "\n",
    "from sklearn.model_selection import cross_validate\n",
    "\n",
    "def five_five_fold_cross_validate(model, X, y):\n",
    "    \n",
    "    f1_score=[]\n",
    "    kfold=KFold(n_splits=5,shuffle=True,random_state=86)\n",
    "    \n",
    "    for i in range(5):\n",
    "        cv=cross_validate(model,X,y,cv=kfold)\n",
    "        #print(cv)\n",
    "        f1_score.append(cv['test_score'].mean())\n",
    "    \n",
    "    return round(sum(f1_score)/len(f1_score),4)"
   ]
  },
  {
   "cell_type": "markdown",
   "id": "6787cd1a-2f64-43b3-abf5-ca00bdce93fc",
   "metadata": {},
   "source": [
    "---\n",
    "**Problem 3**\n",
    "\n",
    "Validate a 10-nearest neighbor model on the diabetes dataset using the five_five_fold_cross_validate method above.\n",
    "\n",
    "Use \"Outcome\" for y, and any two features for X.  Try to get as high scores as you can by choose two good features. "
   ]
  },
  {
   "cell_type": "code",
   "execution_count": 5,
   "id": "9cc0cba1",
   "metadata": {},
   "outputs": [
    {
     "name": "stdout",
     "output_type": "stream",
     "text": [
      "The best score of 10 neighbor KNN model is 0.7278\n"
     ]
    }
   ],
   "source": [
    "from sklearn.neighbors import KNeighborsClassifier as KNN\n",
    "from sklearn.feature_selection import SelectKBest, f_classif\n",
    "\n",
    "features=diabetes.drop('Outcome',axis=1)\n",
    "target=diabetes['Outcome']\n",
    "\n",
    "selector=SelectKBest(f_classif,k=2)\n",
    "selector.fit(features,target)\n",
    "cols=selector.get_feature_names_out()\n",
    "\n",
    "knn=KNN(n_neighbors=10)\n",
    "\n",
    "print(f'The best score of 10 neighbor KNN model is {five_five_fold_cross_validate(knn,features[cols],target)}')"
   ]
  },
  {
   "cell_type": "markdown",
   "id": "e2c174e3-8820-4990-9f0e-2d705af14dc8",
   "metadata": {},
   "source": [
    "---\n",
    "**Problem 4**\n",
    "\n",
    "Validate a 10-nearest neighbor model on the diabetes dataset using the five_five_fold_cross_validate method above.\n",
    "\n",
    "Use \"Outcome\" for y.\n",
    "\n",
    "For X, choose the first two principal components obtained by PCA.  To train PCA, use all features of diabetes."
   ]
  },
  {
   "cell_type": "code",
   "execution_count": 6,
   "id": "6c550a16",
   "metadata": {},
   "outputs": [
    {
     "name": "stdout",
     "output_type": "stream",
     "text": [
      "The best score of 10 neighbor KNN model with two Principal components is 0.7135\n"
     ]
    }
   ],
   "source": [
    "from sklearn.decomposition import PCA\n",
    "\n",
    "pca=PCA(n_components=2)\n",
    "X_pca=pca.fit_transform(features)\n",
    "\n",
    "print(f'The best score of 10 neighbor KNN model with two Principal components is {five_five_fold_cross_validate(knn,X_pca,target)}')"
   ]
  },
  {
   "cell_type": "markdown",
   "id": "ba999864-fd9e-4d3f-97ab-2f3768dd281b",
   "metadata": {},
   "source": [
    "---\n",
    "**Problem 5**\n",
    "\n",
    "Validate a most-frequent dummy classifier on the diabetes dataset using the five_five_fold_cross_validate method above.\n",
    "\n",
    "Use \"Outcome\" for y.\n",
    "\n",
    "For X, choose the first two principal components obtained by PCA.  To train PCA, use all features of diabetes."
   ]
  },
  {
   "cell_type": "code",
   "execution_count": 7,
   "id": "62ad9bea",
   "metadata": {},
   "outputs": [
    {
     "name": "stdout",
     "output_type": "stream",
     "text": [
      "The best score of Dummy Classifier with two Principal components is 0.651\n"
     ]
    }
   ],
   "source": [
    "from sklearn.dummy import DummyClassifier\n",
    "\n",
    "dummy=DummyClassifier(strategy='most_frequent')\n",
    "print(f'The best score of Dummy Classifier with two Principal components is {five_five_fold_cross_validate(dummy,X_pca,target)}')"
   ]
  },
  {
   "cell_type": "code",
   "execution_count": null,
   "id": "d29bacf6",
   "metadata": {},
   "outputs": [],
   "source": []
  }
 ],
 "metadata": {
  "kernelspec": {
   "display_name": "Python 3 (ipykernel)",
   "language": "python",
   "name": "python3"
  },
  "language_info": {
   "codemirror_mode": {
    "name": "ipython",
    "version": 3
   },
   "file_extension": ".py",
   "mimetype": "text/x-python",
   "name": "python",
   "nbconvert_exporter": "python",
   "pygments_lexer": "ipython3",
   "version": "3.10.9"
  }
 },
 "nbformat": 4,
 "nbformat_minor": 5
}
