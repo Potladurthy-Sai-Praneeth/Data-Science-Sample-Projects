{
 "cells": [
  {
   "cell_type": "markdown",
   "id": "f5074219-7448-4bc3-b680-63c7e7315f39",
   "metadata": {},
   "source": [
    "# COMP 7150 Assignment 3"
   ]
  },
  {
   "cell_type": "markdown",
   "id": "37b32ec3-3ec5-4c27-ae64-0d40609a26d4",
   "metadata": {},
   "source": [
    "NAME: __Ealugu Ravi_____________"
   ]
  },
  {
   "cell_type": "markdown",
   "id": "f36b0732-eadd-421f-9181-547e8570e7f1",
   "metadata": {},
   "source": [
    "---\n",
    "\n",
    "**How each problem is graded**\n",
    "\n",
    "This is a general guideline.  There might be some variant for a specific problem.\n",
    "\n",
    "* Answering the question in English: 25%\n",
    "    + Thorough answering the question, explaning the findings, discussing the comparison: 10-25%\n",
    "    + Not answering the question in English: 0%.\n",
    "    + Note: An answer is written in English to address a specific question. The answer must come first.  \n",
    "* Code: 50%\n",
    "    + Code is correct: 50%\n",
    "    + Code is correct, but missing some minor elements: 25-40%\n",
    "    + Incorrect solution, but make an effort: 10%-25%\n",
    "    + Empty: 0% \n",
    "    + Note: code is not an answer. Code shows how you get an answer.  Code comes after an answer.\n",
    "* Explanation of code: 10%\n",
    "    + Concise English explanation of solution/code: 10%\n",
    "    + No explanation: 0%\n",
    "* Testing: 15%\n",
    "    + Providing adequate testing of code: 15%\n",
    "    + Code operational but does not show how the answer(s) were generated: 5%\n",
    "    + Code not runnable or no testing: 0%\n",
    "\n",
    "\n",
    "**How to turn in your assignment**\n",
    "\n",
    "+ Export your notebook to an HTML file.\n",
    "+ Upload it to the appropriate folder in Assignments on Canvas."
   ]
  },
  {
   "cell_type": "markdown",
   "id": "25f76193-2495-448c-b6d8-993e05392941",
   "metadata": {},
   "source": [
    "**Each problem is worth 20 points**"
   ]
  },
  {
   "cell_type": "markdown",
   "id": "f7db3e6a-d75f-4737-8cb6-bfc753e07c09",
   "metadata": {},
   "source": [
    "#### Dataset\n",
    "\n",
    "The dataset you'll used for this assignment is diabetes.csv\n",
    "\n",
    "The target variable is Outcome. The other 8 variables are features.\n",
    "\n",
    "This dataset was collected from pregnant women.  Each row corresponds to a person.  An Outcome of 0 means the person is not diagnosed with diabetes.  An Outcome of 1 means the person is diagnosed with diabetes."
   ]
  },
  {
   "cell_type": "code",
   "execution_count": 1,
   "id": "e57682ed-20c2-4a2b-8039-a89904ee68a9",
   "metadata": {},
   "outputs": [],
   "source": [
    "import pandas as pd\n",
    "\n",
    "diabetes = pd.read_csv('F:/DataScience_assignments_Ravi/Sem_2/Diabetes/diabetes.csv')"
   ]
  },
  {
   "cell_type": "code",
   "execution_count": 2,
   "id": "73e97cc9-88b1-4ee4-b7ee-b48631e23e63",
   "metadata": {},
   "outputs": [
    {
     "data": {
      "text/html": [
       "<div>\n",
       "<style scoped>\n",
       "    .dataframe tbody tr th:only-of-type {\n",
       "        vertical-align: middle;\n",
       "    }\n",
       "\n",
       "    .dataframe tbody tr th {\n",
       "        vertical-align: top;\n",
       "    }\n",
       "\n",
       "    .dataframe thead th {\n",
       "        text-align: right;\n",
       "    }\n",
       "</style>\n",
       "<table border=\"1\" class=\"dataframe\">\n",
       "  <thead>\n",
       "    <tr style=\"text-align: right;\">\n",
       "      <th></th>\n",
       "      <th>Pregnancies</th>\n",
       "      <th>Glucose</th>\n",
       "      <th>BloodPressure</th>\n",
       "      <th>SkinThickness</th>\n",
       "      <th>Insulin</th>\n",
       "      <th>BMI</th>\n",
       "      <th>DiabetesPedigreeFunction</th>\n",
       "      <th>Age</th>\n",
       "      <th>Outcome</th>\n",
       "    </tr>\n",
       "  </thead>\n",
       "  <tbody>\n",
       "    <tr>\n",
       "      <th>0</th>\n",
       "      <td>6</td>\n",
       "      <td>148</td>\n",
       "      <td>72</td>\n",
       "      <td>35</td>\n",
       "      <td>0</td>\n",
       "      <td>33.6</td>\n",
       "      <td>0.627</td>\n",
       "      <td>50</td>\n",
       "      <td>1</td>\n",
       "    </tr>\n",
       "    <tr>\n",
       "      <th>1</th>\n",
       "      <td>1</td>\n",
       "      <td>85</td>\n",
       "      <td>66</td>\n",
       "      <td>29</td>\n",
       "      <td>0</td>\n",
       "      <td>26.6</td>\n",
       "      <td>0.351</td>\n",
       "      <td>31</td>\n",
       "      <td>0</td>\n",
       "    </tr>\n",
       "    <tr>\n",
       "      <th>2</th>\n",
       "      <td>8</td>\n",
       "      <td>183</td>\n",
       "      <td>64</td>\n",
       "      <td>0</td>\n",
       "      <td>0</td>\n",
       "      <td>23.3</td>\n",
       "      <td>0.672</td>\n",
       "      <td>32</td>\n",
       "      <td>1</td>\n",
       "    </tr>\n",
       "    <tr>\n",
       "      <th>3</th>\n",
       "      <td>1</td>\n",
       "      <td>89</td>\n",
       "      <td>66</td>\n",
       "      <td>23</td>\n",
       "      <td>94</td>\n",
       "      <td>28.1</td>\n",
       "      <td>0.167</td>\n",
       "      <td>21</td>\n",
       "      <td>0</td>\n",
       "    </tr>\n",
       "    <tr>\n",
       "      <th>4</th>\n",
       "      <td>0</td>\n",
       "      <td>137</td>\n",
       "      <td>40</td>\n",
       "      <td>35</td>\n",
       "      <td>168</td>\n",
       "      <td>43.1</td>\n",
       "      <td>2.288</td>\n",
       "      <td>33</td>\n",
       "      <td>1</td>\n",
       "    </tr>\n",
       "  </tbody>\n",
       "</table>\n",
       "</div>"
      ],
      "text/plain": [
       "   Pregnancies  Glucose  BloodPressure  SkinThickness  Insulin   BMI  \\\n",
       "0            6      148             72             35        0  33.6   \n",
       "1            1       85             66             29        0  26.6   \n",
       "2            8      183             64              0        0  23.3   \n",
       "3            1       89             66             23       94  28.1   \n",
       "4            0      137             40             35      168  43.1   \n",
       "\n",
       "   DiabetesPedigreeFunction  Age  Outcome  \n",
       "0                     0.627   50        1  \n",
       "1                     0.351   31        0  \n",
       "2                     0.672   32        1  \n",
       "3                     0.167   21        0  \n",
       "4                     2.288   33        1  "
      ]
     },
     "execution_count": 2,
     "metadata": {},
     "output_type": "execute_result"
    }
   ],
   "source": [
    "diabetes.head()"
   ]
  },
  {
   "cell_type": "markdown",
   "id": "52106bb5-a98b-4d79-8446-c8915aa91307",
   "metadata": {},
   "source": [
    "---\n",
    "\n",
    "**Problem 1**\n",
    "\n",
    "Suppose that we are interested in finding which feature is relevant to the target variable, Outcome, i.e. which feature does the target is most dependent on.\n",
    "\n",
    "Which variables do we use chi2? Which variables do we use f_classif?\n",
    "\n",
    "Explain your answer."
   ]
  },
  {
   "cell_type": "code",
   "execution_count": 3,
   "id": "c46d2584",
   "metadata": {},
   "outputs": [
    {
     "data": {
      "text/plain": [
       "'\\nChi squared test is prefered when there are categorical variables\\nHowever as there are no categorical variables we use f_classif ANOVA test to find best suitable featues\\n'"
      ]
     },
     "execution_count": 3,
     "metadata": {},
     "output_type": "execute_result"
    }
   ],
   "source": [
    "'''\n",
    "Chi squared test is prefered when there are categorical variables\n",
    "However as there are no categorical variables we use f_classif ANOVA test to find best suitable featues\n",
    "'''"
   ]
  },
  {
   "cell_type": "markdown",
   "id": "942930c8-963a-4785-84c0-c0fe8e292221",
   "metadata": {},
   "source": [
    "---\n",
    "\n",
    "**Problem 2**\n",
    "\n",
    "Between Pregnancies, BloodPressure, BMI, and Age, which feature is the target variable least dependent on?  i.e. which feature is least relevant to the target?\n",
    "\n",
    "Explain how you obtain your answer.\n"
   ]
  },
  {
   "cell_type": "code",
   "execution_count": 4,
   "id": "0c009daa",
   "metadata": {},
   "outputs": [
    {
     "name": "stdout",
     "output_type": "stream",
     "text": [
      "                          test_statistic       p_value\n",
      "feature                                               \n",
      "Pregnancies                    21.591253  4.253136e-06\n",
      "Glucose                       158.900372  4.391588e-32\n",
      "BloodPressure                   6.837409  9.178572e-03\n",
      "SkinThickness                   1.756564  1.856193e-01\n",
      "Insulin                         9.982341  1.669823e-03\n",
      "BMI                            62.616998  1.453015e-14\n",
      "DiabetesPedigreeFunction       12.128312  5.372554e-04\n",
      "Age                            45.475334  4.017892e-11\n"
     ]
    },
    {
     "data": {
      "text/plain": [
       "'\\nForm the P-vales we can infer that lower the p-value most significant the feature is, and lower the p-value higher the test statistic is\\nHence among the asked features Blood Pressure is the least significant feature as it has highest p-value \\n'"
      ]
     },
     "execution_count": 4,
     "metadata": {},
     "output_type": "execute_result"
    },
    {
     "data": {
      "image/png": "[encoded data removed]",
      "text/plain": [
       "<Figure size 529.725x360 with 1 Axes>"
      ]
     },
     "metadata": {},
     "output_type": "display_data"
    }
   ],
   "source": [
    "from sklearn.model_selection import train_test_split\n",
    "from sklearn.feature_selection import f_classif, SelectKBest\n",
    "from sklearn.metrics import accuracy_score\n",
    "from sklearn.preprocessing import StandardScaler\n",
    "import seaborn as sns\n",
    "import matplotlib.pyplot as plt\n",
    "import numpy as np\n",
    "sns.set()\n",
    "\n",
    "scaler=StandardScaler()\n",
    "\n",
    "#scaler.fit(diabetes.drop(['Outcome'],axis=1))\n",
    "\n",
    "\n",
    "features = scaler.fit_transform(diabetes.drop(['Outcome'],axis=1))\n",
    "\n",
    "target= diabetes['Outcome']\n",
    "\n",
    "X_train, X_test, y_train, y_test = train_test_split(features, target, test_size=0.3, random_state=42)\n",
    "\n",
    "test_statistic,p_value=f_classif(X_train,y_train)\n",
    "\n",
    "\n",
    "matrix=np.concatenate((test_statistic.reshape(-1,1),p_value.reshape(-1,1)),axis=1)\n",
    "\n",
    "data=pd.DataFrame(matrix,columns=['test_statistic','p_value'])\n",
    "data['feature']=diabetes.drop(['Outcome'],axis=1).columns.values.reshape(-1,1)\n",
    "\n",
    "data=data.set_index('feature')\n",
    "\n",
    "print(data)\n",
    "#fs = SelectKBest(f_classif,k='all').fit(X_train,y_train)\n",
    "\n",
    "\n",
    "sns.relplot(data=data, x='test_statistic', y='p_value', hue='feature')\n",
    "\n",
    "'''\n",
    "Form the P-vales we can infer that lower the p-value most significant the feature is, and lower the p-value higher the test statistic is\n",
    "Hence among the asked features Blood Pressure is the least significant feature as it has highest p-value \n",
    "'''"
   ]
  },
  {
   "cell_type": "markdown",
   "id": "c815f232-2640-409f-bb45-92c09f078260",
   "metadata": {},
   "source": [
    "---\n",
    "\n",
    "**Problem 3**\n",
    "\n",
    "Using the provided data, build and train two KNN models with 9 neighbors. The first model uses two features Pregnancies and BloodPressure. The second models uses BMI and Age.\n",
    "\n"
   ]
  },
  {
   "cell_type": "code",
   "execution_count": 5,
   "id": "9783ccd3",
   "metadata": {},
   "outputs": [
    {
     "data": {
      "text/plain": [
       "KNeighborsClassifier(n_neighbors=9)"
      ]
     },
     "execution_count": 5,
     "metadata": {},
     "output_type": "execute_result"
    }
   ],
   "source": [
    "from sklearn.neighbors import KNeighborsClassifier\n",
    "from sklearn.metrics import confusion_matrix\n",
    "from sklearn.metrics import f1_score\n",
    "\n",
    "diabetes_copy1=diabetes.copy()\n",
    "\n",
    "diabetes_copy1[['Pregnancies','BloodPressure']]=scaler.fit_transform(diabetes_copy1[['Pregnancies','BloodPressure']])\n",
    "\n",
    "classifier1 = KNeighborsClassifier(n_neighbors=9)\n",
    "#Model 1 using Pregnancies, Blood Pressure\n",
    "#features1 = scaler_two.transform(diabetes[['Pregnancies','BloodPressure']])\n",
    "\n",
    "X_train1, X_test1, y_train1, y_test1 = train_test_split(diabetes_copy1[['Pregnancies','BloodPressure']], target, test_size=0.2, random_state=42)\n",
    "\n",
    "classifier1.fit(X_train1,y_train1)\n",
    "\n",
    "#Model 2 using BMI and Age\n",
    "diabetes_copy2=diabetes.copy()\n",
    "\n",
    "diabetes_copy2[['BMI','Age']]=scaler.fit_transform(diabetes_copy2[['BMI','Age']])\n",
    "\n",
    "classifier2 = KNeighborsClassifier(n_neighbors=9)\n",
    "#features2 = scaler_two.transform(diabetes[['BMI','Age']])\n",
    "X_train2, X_test2, y_train2, y_test2 = train_test_split(diabetes_copy2[['BMI','Age']], target, test_size=0.2, random_state=42)\n",
    "\n",
    "classifier2.fit(X_train2,y_train2)\n"
   ]
  },
  {
   "cell_type": "markdown",
   "id": "5f206bba-49b8-47ae-9a98-6613aa6d4052",
   "metadata": {},
   "source": [
    "---\n",
    "\n",
    "**Problem 4**\n",
    "\n",
    "Use the data from the following rows as test data to compute the accuracy, precision and recall of the two models in the previous questions.\n",
    "```\n",
    "[356, 244, 218, 346, 291, 302, 137, 634, 710, 395, 551, 526, 554, 748, 116,  83, 241, 280, 290, 552]\n",
    "```\n",
    "\n",
    "Explain your solution, and test your code."
   ]
  },
  {
   "cell_type": "code",
   "execution_count": 6,
   "id": "03b2e574",
   "metadata": {},
   "outputs": [
    {
     "name": "stdout",
     "output_type": "stream",
     "text": [
      "[[14  0]\n",
      " [ 4  2]]\n",
      "Precision of model with ['Pregnancies', 'BloodPressure'] features is 1.0\n",
      "Recall of model with ['Pregnancies', 'BloodPressure'] features is 0.7777777777777778\n",
      "Accuracy of model with ['Pregnancies', 'BloodPressure'] is 80.0\n",
      "F-score of model with ['Pregnancies', 'BloodPressure'] features is 0.5\n",
      "[[14  0]\n",
      " [ 3  3]]\n",
      "Precision of model with ['BMI', 'Age'] features is 1.0\n",
      "Recall of model with ['BMI', 'Age'] features is 0.8235294117647058\n",
      "Accuracy of model with ['BMI', 'Age'] is 85.0\n",
      "F-score of model with ['BMI', 'Age'] features is 0.6666666666666666\n"
     ]
    },
    {
     "name": "stderr",
     "output_type": "stream",
     "text": [
      "C:\\Users\\psp\\anaconda3\\lib\\site-packages\\sklearn\\base.py:450: UserWarning: X does not have valid feature names, but KNeighborsClassifier was fitted with feature names\n",
      "  warnings.warn(\n",
      "C:\\Users\\psp\\anaconda3\\lib\\site-packages\\sklearn\\base.py:450: UserWarning: X does not have valid feature names, but KNeighborsClassifier was fitted with feature names\n",
      "  warnings.warn(\n"
     ]
    }
   ],
   "source": [
    "def calculateAccuracy(X_test_data,y_test_data,features,classifier):\n",
    "    \n",
    "    y_pred = classifier.predict(X_test_data)\n",
    "    \n",
    "    conf_matrix = confusion_matrix(y_test_data,y_pred)\n",
    "    print(conf_matrix)\n",
    "\n",
    "    tp=conf_matrix[0][0]\n",
    "    fp=conf_matrix[0][1]\n",
    "    fn=conf_matrix[1][0]\n",
    "    tn=conf_matrix[1][1]\n",
    "\n",
    "    precision1=tp/(tp+fp)\n",
    "\n",
    "    recall1=tp/(tp+fn)\n",
    "\n",
    "    accuracy1=(tp+tn)/(tp+tn+fp+fn)\n",
    "\n",
    "    f_score1=(f1_score(y_test_data,y_pred))\n",
    "\n",
    "    print(f'Precision of model with {features} features is {precision1}')\n",
    "    print(f'Recall of model with {features} features is {recall1}')\n",
    "    print(f'Accuracy of model with {features} is {round(accuracy1*100,2)}')\n",
    "    print(f'F-score of model with {features} features is {f_score1}')\n",
    "    \n",
    "\n",
    "\n",
    "test_data = [356, 244, 218, 346, 291, 302, 137, 634, 710, 395, 551, 526, 554, 748, 116, 83, 241, 280, 290, 552]\n",
    "#considering a threshold of 300 in test data. above 300 considered as dabates +ve\n",
    "#predictions_test=[1,0,0,1,0,1,0,1,1,1,1,1,1,1,0,0,0,0,0,1]\n",
    "#calculateAccuracy(X_test1,y_test1,['Pregnancies','BloodPressure'],classifier1)\n",
    "\n",
    "#calculateAccuracy(X_test2,y_test2,['BMI','Age'],classifier2)\n",
    "\n",
    "x_1=np.asarray(diabetes_copy1[['Pregnancies','BloodPressure']].iloc[test_data])\n",
    "y_test=np.array(diabetes[['Outcome']].iloc[test_data])\n",
    "\n",
    "x_2=np.asarray(diabetes_copy2[['BMI','Age']].iloc[test_data])\n",
    "\n",
    "calculateAccuracy(x_1,y_test,['Pregnancies','BloodPressure'],classifier1)\n",
    "\n",
    "calculateAccuracy(x_2,y_test,['BMI','Age'],classifier2)"
   ]
  },
  {
   "cell_type": "markdown",
   "id": "e6d38493-60a1-49ed-8029-fe69da55b016",
   "metadata": {},
   "source": [
    "---\n",
    "\n",
    "**Problem 5**\n",
    "\n",
    "Choose the 4 most relevant features using f_classif, and build a KNN model with these 4 features.\n",
    "\n",
    "Report the accuracy, precision, and recall of the model on the test data obtained from the same rows as shown in the previous problem."
   ]
  },
  {
   "cell_type": "code",
   "execution_count": 8,
   "id": "9a2aafb4",
   "metadata": {},
   "outputs": [
    {
     "name": "stdout",
     "output_type": "stream",
     "text": [
      "[[13  1]\n",
      " [ 4  2]]\n",
      "Precision of model with ['Pregnancies', 'Glucose', 'BMI', 'Age'] features is 0.9285714285714286\n",
      "Recall of model with ['Pregnancies', 'Glucose', 'BMI', 'Age'] features is 0.7647058823529411\n",
      "Accuracy of model with ['Pregnancies', 'Glucose', 'BMI', 'Age'] is 75.0\n",
      "F-score of model with ['Pregnancies', 'Glucose', 'BMI', 'Age'] features is 0.4444444444444444\n"
     ]
    }
   ],
   "source": [
    "select = SelectKBest(score_func=f_classif, k=4)\n",
    "\n",
    "fs4=select.fit_transform(features,target)\n",
    "\n",
    "mask = select.get_support()\n",
    "\n",
    "new_features = [] # The list of your K best features\n",
    "\n",
    "for bool_val, feature in zip(mask, diabetes.drop(['Outcome'],axis=1).columns.values.tolist()):\n",
    "    if bool_val:\n",
    "        new_features.append(feature)\n",
    "        \n",
    "dataframe = scaler.fit_transform(pd.DataFrame(diabetes, columns=new_features))\n",
    "\n",
    "\n",
    "#print(dataframe)\n",
    "#print(dataframe.iloc[83])\n",
    "\n",
    "#diabetes_copy3=diabetes.copy()\n",
    "required_x=dataframe[test_data]\n",
    "required_y=np.array(target.iloc[test_data])\n",
    "\n",
    "#print(required_x)\n",
    "#print(required_y)\n",
    "\n",
    "#required_x=scaler.fit_transform(required_x)\n",
    "\n",
    "classifier = KNeighborsClassifier(n_neighbors=9)\n",
    "\n",
    "classifier.fit(fs4,target)\n",
    "\n",
    "calculateAccuracy(required_x,required_y,new_features,classifier)\n"
   ]
  },
  {
   "cell_type": "code",
   "execution_count": null,
   "id": "f10dc84b",
   "metadata": {},
   "outputs": [],
   "source": []
  }
 ],
 "metadata": {
  "kernelspec": {
   "display_name": "Python 3 (ipykernel)",
   "language": "python",
   "name": "python3"
  },
  "language_info": {
   "codemirror_mode": {
    "name": "ipython",
    "version": 3
   },
   "file_extension": ".py",
   "mimetype": "text/x-python",
   "name": "python",
   "nbconvert_exporter": "python",
   "pygments_lexer": "ipython3",
   "version": "3.10.9"
  }
 },
 "nbformat": 4,
 "nbformat_minor": 5
}
