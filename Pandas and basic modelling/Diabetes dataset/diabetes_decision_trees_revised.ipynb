{
 "cells": [
  {
   "cell_type": "markdown",
   "id": "f5074219-7448-4bc3-b680-63c7e7315f39",
   "metadata": {},
   "source": [
    "# COMP 7150 Assignment 6\n",
    "\n",
    "Due: April 17, 2023 before midnight."
   ]
  },
  {
   "cell_type": "markdown",
   "id": "37b32ec3-3ec5-4c27-ae64-0d40609a26d4",
   "metadata": {},
   "source": [
    "NAME: _______________"
   ]
  },
  {
   "cell_type": "markdown",
   "id": "f36b0732-eadd-421f-9181-547e8570e7f1",
   "metadata": {},
   "source": [
    "---\n",
    "\n",
    "**How each problem is graded**\n",
    "\n",
    "This is a general guideline.  There might be some variant for a specific problem.\n",
    "\n",
    "* Answering the question in English: 25%\n",
    "    + Thorough answering the question, explaning the findings, discussing the comparison: 10-25%\n",
    "    + Not answering the question in English: 0%.\n",
    "    + Note: An answer is written in English to address a specific question. The answer must come first.  \n",
    "* Code: 50%\n",
    "    + Code is correct: 50%\n",
    "    + Code is correct, but missing some minor elements: 25-40%\n",
    "    + Incorrect solution, but make an effort: 10%-25%\n",
    "    + Empty: 0% \n",
    "    + Note: code is not an answer. Code shows how you get an answer.  Code comes after an answer.\n",
    "* Explanation of code: 10%\n",
    "    + Concise English explanation of solution/code: 10%\n",
    "    + No explanation: 0%\n",
    "* Testing: 15%\n",
    "    + Providing adequate testing of code: 15%\n",
    "    + Code operational but does not show how the answer(s) were generated: 5%\n",
    "    + Code not runnable or no testing: 0%\n",
    "\n",
    "\n",
    "**How to turn in your assignment**\n",
    "\n",
    "+ Export your notebook to an HTML file.\n",
    "+ Upload it to the appropriate folder in Assignments on Canvas."
   ]
  },
  {
   "cell_type": "markdown",
   "id": "f7db3e6a-d75f-4737-8cb6-bfc753e07c09",
   "metadata": {},
   "source": [
    "#### Dataset\n",
    "\n",
    "The dataset you'll used for this assignment is diabetes.csv\n",
    "\n",
    "The target variable is Outcome. The other 8 variables are features.\n",
    "\n",
    "Several constraints were placed on the selection of these instances from a larger database. In particular, all patients here are females at least 21 years old of Pima Indian heritage.\n",
    "\n",
    "* Pregnancies: Number of times pregnant\n",
    "* Glucose: Plasma glucose concentration a 2 hours in an oral glucose tolerance test\n",
    "* BloodPressure: Diastolic blood pressure (mm Hg)\n",
    "* SkinThickness: Triceps skin fold thickness (mm)\n",
    "* Insulin: 2-Hour serum insulin (mu U/ml)\n",
    "* BMI: Body mass index (weight in kg/(height in m)^2)\n",
    "* DiabetesPedigreeFunction: Diabetes pedigree function\n",
    "* Age: Age (years)\n",
    "* Outcome: Class variable (0 or 1)\n"
   ]
  },
  {
   "cell_type": "markdown",
   "id": "ed8bbe85-47ce-49b4-a66b-faa6be7cd0f3",
   "metadata": {},
   "source": [
    "---\n",
    "\n",
    "Each problem is worth 20 points.\n",
    "\n",
    "---"
   ]
  },
  {
   "cell_type": "code",
   "execution_count": 1,
   "id": "e57682ed-20c2-4a2b-8039-a89904ee68a9",
   "metadata": {},
   "outputs": [
    {
     "data": {
      "text/html": [
       "<div>\n",
       "<style scoped>\n",
       "    .dataframe tbody tr th:only-of-type {\n",
       "        vertical-align: middle;\n",
       "    }\n",
       "\n",
       "    .dataframe tbody tr th {\n",
       "        vertical-align: top;\n",
       "    }\n",
       "\n",
       "    .dataframe thead th {\n",
       "        text-align: right;\n",
       "    }\n",
       "</style>\n",
       "<table border=\"1\" class=\"dataframe\">\n",
       "  <thead>\n",
       "    <tr style=\"text-align: right;\">\n",
       "      <th></th>\n",
       "      <th>Pregnancies</th>\n",
       "      <th>Glucose</th>\n",
       "      <th>BloodPressure</th>\n",
       "      <th>SkinThickness</th>\n",
       "      <th>Insulin</th>\n",
       "      <th>BMI</th>\n",
       "      <th>DiabetesPedigreeFunction</th>\n",
       "      <th>Age</th>\n",
       "      <th>Outcome</th>\n",
       "    </tr>\n",
       "  </thead>\n",
       "  <tbody>\n",
       "    <tr>\n",
       "      <th>397</th>\n",
       "      <td>0</td>\n",
       "      <td>131</td>\n",
       "      <td>66</td>\n",
       "      <td>40</td>\n",
       "      <td>0</td>\n",
       "      <td>34.3</td>\n",
       "      <td>0.196</td>\n",
       "      <td>22</td>\n",
       "      <td>1</td>\n",
       "    </tr>\n",
       "    <tr>\n",
       "      <th>707</th>\n",
       "      <td>2</td>\n",
       "      <td>127</td>\n",
       "      <td>46</td>\n",
       "      <td>21</td>\n",
       "      <td>335</td>\n",
       "      <td>34.4</td>\n",
       "      <td>0.176</td>\n",
       "      <td>22</td>\n",
       "      <td>0</td>\n",
       "    </tr>\n",
       "    <tr>\n",
       "      <th>215</th>\n",
       "      <td>12</td>\n",
       "      <td>151</td>\n",
       "      <td>70</td>\n",
       "      <td>40</td>\n",
       "      <td>271</td>\n",
       "      <td>41.8</td>\n",
       "      <td>0.742</td>\n",
       "      <td>38</td>\n",
       "      <td>1</td>\n",
       "    </tr>\n",
       "  </tbody>\n",
       "</table>\n",
       "</div>"
      ],
      "text/plain": [
       "     Pregnancies  Glucose  BloodPressure  SkinThickness  Insulin   BMI  \\\n",
       "397            0      131             66             40        0  34.3   \n",
       "707            2      127             46             21      335  34.4   \n",
       "215           12      151             70             40      271  41.8   \n",
       "\n",
       "     DiabetesPedigreeFunction  Age  Outcome  \n",
       "397                     0.196   22        1  \n",
       "707                     0.176   22        0  \n",
       "215                     0.742   38        1  "
      ]
     },
     "execution_count": 1,
     "metadata": {},
     "output_type": "execute_result"
    }
   ],
   "source": [
    "import pandas as pd\n",
    "import numpy as np\n",
    "\n",
    "diabetes = pd.read_csv('./../Sem_2/Diabetes/diabetes.csv')\n",
    "diabetes.sample(3)"
   ]
  },
  {
   "cell_type": "markdown",
   "id": "2ddb4251-6177-4df6-88d3-c3ed8d185391",
   "metadata": {},
   "source": [
    "---\n",
    "\n",
    "**Problem 1**\n",
    "\n",
    "Some of the features have missing values.  Unfortunately, in this dataset, missing values are not indicated as \"nan\".  Therefore, if you use pandas' \"dropna\", it won't work.\n",
    "\n",
    "However, if you understand the meanings of the features, you can guess which ones have missing values.  For example, blood pressure should not be less than 20.\n",
    "\n",
    "Find the features that you think have missing values in the dataset.  For each feature, explain why you think they have missing values.\n",
    "\n"
   ]
  },
  {
   "cell_type": "code",
   "execution_count": 2,
   "id": "d254dcbe",
   "metadata": {
    "scrolled": true
   },
   "outputs": [
    {
     "data": {
      "text/html": [
       "<div>\n",
       "<style scoped>\n",
       "    .dataframe tbody tr th:only-of-type {\n",
       "        vertical-align: middle;\n",
       "    }\n",
       "\n",
       "    .dataframe tbody tr th {\n",
       "        vertical-align: top;\n",
       "    }\n",
       "\n",
       "    .dataframe thead th {\n",
       "        text-align: right;\n",
       "    }\n",
       "</style>\n",
       "<table border=\"1\" class=\"dataframe\">\n",
       "  <thead>\n",
       "    <tr style=\"text-align: right;\">\n",
       "      <th></th>\n",
       "      <th>Pregnancies</th>\n",
       "      <th>Glucose</th>\n",
       "      <th>BloodPressure</th>\n",
       "      <th>SkinThickness</th>\n",
       "      <th>Insulin</th>\n",
       "      <th>BMI</th>\n",
       "      <th>DiabetesPedigreeFunction</th>\n",
       "      <th>Age</th>\n",
       "      <th>Outcome</th>\n",
       "    </tr>\n",
       "  </thead>\n",
       "  <tbody>\n",
       "    <tr>\n",
       "      <th>count</th>\n",
       "      <td>768.000000</td>\n",
       "      <td>768.000000</td>\n",
       "      <td>768.000000</td>\n",
       "      <td>768.000000</td>\n",
       "      <td>768.000000</td>\n",
       "      <td>768.000000</td>\n",
       "      <td>768.000000</td>\n",
       "      <td>768.000000</td>\n",
       "      <td>768.000000</td>\n",
       "    </tr>\n",
       "    <tr>\n",
       "      <th>mean</th>\n",
       "      <td>3.845052</td>\n",
       "      <td>120.894531</td>\n",
       "      <td>69.105469</td>\n",
       "      <td>20.536458</td>\n",
       "      <td>79.799479</td>\n",
       "      <td>31.992578</td>\n",
       "      <td>0.471876</td>\n",
       "      <td>33.240885</td>\n",
       "      <td>0.348958</td>\n",
       "    </tr>\n",
       "    <tr>\n",
       "      <th>std</th>\n",
       "      <td>3.369578</td>\n",
       "      <td>31.972618</td>\n",
       "      <td>19.355807</td>\n",
       "      <td>15.952218</td>\n",
       "      <td>115.244002</td>\n",
       "      <td>7.884160</td>\n",
       "      <td>0.331329</td>\n",
       "      <td>11.760232</td>\n",
       "      <td>0.476951</td>\n",
       "    </tr>\n",
       "    <tr>\n",
       "      <th>min</th>\n",
       "      <td>0.000000</td>\n",
       "      <td>0.000000</td>\n",
       "      <td>0.000000</td>\n",
       "      <td>0.000000</td>\n",
       "      <td>0.000000</td>\n",
       "      <td>0.000000</td>\n",
       "      <td>0.078000</td>\n",
       "      <td>21.000000</td>\n",
       "      <td>0.000000</td>\n",
       "    </tr>\n",
       "    <tr>\n",
       "      <th>25%</th>\n",
       "      <td>1.000000</td>\n",
       "      <td>99.000000</td>\n",
       "      <td>62.000000</td>\n",
       "      <td>0.000000</td>\n",
       "      <td>0.000000</td>\n",
       "      <td>27.300000</td>\n",
       "      <td>0.243750</td>\n",
       "      <td>24.000000</td>\n",
       "      <td>0.000000</td>\n",
       "    </tr>\n",
       "    <tr>\n",
       "      <th>50%</th>\n",
       "      <td>3.000000</td>\n",
       "      <td>117.000000</td>\n",
       "      <td>72.000000</td>\n",
       "      <td>23.000000</td>\n",
       "      <td>30.500000</td>\n",
       "      <td>32.000000</td>\n",
       "      <td>0.372500</td>\n",
       "      <td>29.000000</td>\n",
       "      <td>0.000000</td>\n",
       "    </tr>\n",
       "    <tr>\n",
       "      <th>75%</th>\n",
       "      <td>6.000000</td>\n",
       "      <td>140.250000</td>\n",
       "      <td>80.000000</td>\n",
       "      <td>32.000000</td>\n",
       "      <td>127.250000</td>\n",
       "      <td>36.600000</td>\n",
       "      <td>0.626250</td>\n",
       "      <td>41.000000</td>\n",
       "      <td>1.000000</td>\n",
       "    </tr>\n",
       "    <tr>\n",
       "      <th>max</th>\n",
       "      <td>17.000000</td>\n",
       "      <td>199.000000</td>\n",
       "      <td>122.000000</td>\n",
       "      <td>99.000000</td>\n",
       "      <td>846.000000</td>\n",
       "      <td>67.100000</td>\n",
       "      <td>2.420000</td>\n",
       "      <td>81.000000</td>\n",
       "      <td>1.000000</td>\n",
       "    </tr>\n",
       "  </tbody>\n",
       "</table>\n",
       "</div>"
      ],
      "text/plain": [
       "       Pregnancies     Glucose  BloodPressure  SkinThickness     Insulin  \\\n",
       "count   768.000000  768.000000     768.000000     768.000000  768.000000   \n",
       "mean      3.845052  120.894531      69.105469      20.536458   79.799479   \n",
       "std       3.369578   31.972618      19.355807      15.952218  115.244002   \n",
       "min       0.000000    0.000000       0.000000       0.000000    0.000000   \n",
       "25%       1.000000   99.000000      62.000000       0.000000    0.000000   \n",
       "50%       3.000000  117.000000      72.000000      23.000000   30.500000   \n",
       "75%       6.000000  140.250000      80.000000      32.000000  127.250000   \n",
       "max      17.000000  199.000000     122.000000      99.000000  846.000000   \n",
       "\n",
       "              BMI  DiabetesPedigreeFunction         Age     Outcome  \n",
       "count  768.000000                768.000000  768.000000  768.000000  \n",
       "mean    31.992578                  0.471876   33.240885    0.348958  \n",
       "std      7.884160                  0.331329   11.760232    0.476951  \n",
       "min      0.000000                  0.078000   21.000000    0.000000  \n",
       "25%     27.300000                  0.243750   24.000000    0.000000  \n",
       "50%     32.000000                  0.372500   29.000000    0.000000  \n",
       "75%     36.600000                  0.626250   41.000000    1.000000  \n",
       "max     67.100000                  2.420000   81.000000    1.000000  "
      ]
     },
     "execution_count": 2,
     "metadata": {},
     "output_type": "execute_result"
    }
   ],
   "source": [
    "diabetes.describe()"
   ]
  },
  {
   "cell_type": "markdown",
   "id": "29c98989",
   "metadata": {},
   "source": [
    "The columns Glucose, BloodPressure, SkinThickness, Insulin and BMI contain missing values\n",
    "1) Min value of glucose level is 40mg/dl and the values < 40 are considered missing\n",
    "2) Min value for BloodPressure is 20 and values < 20 considered missing\n",
    "3) Min and Max values for SkinThickness is 10 and 60 and values <10 and >60 are missing\n",
    "4) Min for Insulin is 15 values < 15 considered missing\n",
    "5) BMI cannt be zero (because it implies weight is 0 which is not feasible)"
   ]
  },
  {
   "cell_type": "markdown",
   "id": "8e0eaa39-2097-4ec9-9978-1facf9483f1d",
   "metadata": {},
   "source": [
    "---\n",
    "\n",
    "**Problem 2**\n",
    "\n",
    "Remove the missing values from the diabetes dataset.\n",
    "\n",
    "Find 3 decision models with the best F1 scores, based on these characteristics:\n",
    "* The first model: find the best max_depth.\n",
    "* The second model: find the best min_samples_leaf\n",
    "* The third model: find the best combination of max_depth and min_samples_leaf\n",
    "\n",
    "Evaluate your models using f1_score and ShuffleSplit with 100 splits.\n",
    "\n",
    "You can read about these two parameters here: https://scikit-learn.org/stable/modules/generated/sklearn.tree.DecisionTreeClassifier.html#sklearn.tree.DecisionTreeClassifier\n"
   ]
  },
  {
   "cell_type": "code",
   "execution_count": 3,
   "id": "5f5054be",
   "metadata": {},
   "outputs": [],
   "source": [
    "diabetes.loc[diabetes['Glucose']<40,'Glucose']=np.nan\n",
    "diabetes.loc[diabetes['BloodPressure']<20,'BloodPressure']=np.nan\n",
    "diabetes.loc[diabetes['Insulin']<15,'Insulin']=np.nan\n",
    "diabetes.loc[diabetes['BMI']==0,'BMI']=np.nan\n",
    "diabetes.loc[((diabetes['SkinThickness']<10) | (diabetes['SkinThickness']>60)),'SkinThickness']=np.nan"
   ]
  },
  {
   "cell_type": "code",
   "execution_count": 4,
   "id": "77bf9ebe",
   "metadata": {
    "scrolled": true
   },
   "outputs": [
    {
     "data": {
      "text/plain": [
       "Pregnancies                   0\n",
       "Glucose                       5\n",
       "BloodPressure                35\n",
       "SkinThickness               233\n",
       "Insulin                     375\n",
       "BMI                          11\n",
       "DiabetesPedigreeFunction      0\n",
       "Age                           0\n",
       "Outcome                       0\n",
       "dtype: int64"
      ]
     },
     "execution_count": 4,
     "metadata": {},
     "output_type": "execute_result"
    }
   ],
   "source": [
    "diabetes.isna().sum()"
   ]
  },
  {
   "cell_type": "markdown",
   "id": "eb882ac8",
   "metadata": {},
   "source": [
    "Removing the observations that are less than 5% of the total values ie. 38"
   ]
  },
  {
   "cell_type": "markdown",
   "id": "a52d33e0",
   "metadata": {},
   "source": [
    "cols_subset=[]\n",
    "cols=diabetes.isna().sum().index.tolist()\n",
    "missing_counts=diabetes.isna().sum().values.tolist()\n",
    "for i in range(len(cols)):\n",
    "    if(missing_counts[i]<=threshold and missing_counts[i]!=0):\n",
    "        cols_subset.append(cols[i])\n",
    "\n",
    "print(cols_subset)"
   ]
  },
  {
   "cell_type": "code",
   "execution_count": 5,
   "id": "c37bac68",
   "metadata": {},
   "outputs": [
    {
     "data": {
      "text/plain": [
       "['Glucose', 'BloodPressure', 'BMI']"
      ]
     },
     "execution_count": 5,
     "metadata": {},
     "output_type": "execute_result"
    }
   ],
   "source": [
    "threshold=int(0.05*diabetes.shape[0])\n",
    "cols_df=pd.DataFrame(diabetes.isna().sum(),columns=['missing_count'])\n",
    "cols_df['remove_rows']=cols_df['missing_count'].apply(lambda x : 'Yes' if(x<=threshold and x!=0) else 'No')\n",
    "subset_cols=cols_df[cols_df['remove_rows']=='Yes'].index.tolist()\n",
    "subset_cols"
   ]
  },
  {
   "cell_type": "code",
   "execution_count": 6,
   "id": "8b871d75",
   "metadata": {},
   "outputs": [],
   "source": [
    "diabetes.dropna(subset=subset_cols,inplace=True)"
   ]
  },
  {
   "cell_type": "code",
   "execution_count": 16,
   "id": "a5ed9c7d",
   "metadata": {
    "scrolled": true
   },
   "outputs": [
    {
     "data": {
      "text/plain": [
       "Pregnancies                 0\n",
       "Glucose                     0\n",
       "BloodPressure               0\n",
       "SkinThickness               0\n",
       "Insulin                     0\n",
       "BMI                         0\n",
       "DiabetesPedigreeFunction    0\n",
       "Age                         0\n",
       "Outcome                     0\n",
       "dtype: int64"
      ]
     },
     "execution_count": 16,
     "metadata": {},
     "output_type": "execute_result"
    }
   ],
   "source": [
    "diabetes.isna().sum()"
   ]
  },
  {
   "cell_type": "markdown",
   "id": "63cfbe1f",
   "metadata": {},
   "source": [
    "Let us verify the distribution of the columns SkinThickness and Insulin to find out which metric is used to impute the values."
   ]
  },
  {
   "cell_type": "code",
   "execution_count": 10,
   "id": "a74ca9f6",
   "metadata": {
    "scrolled": true
   },
   "outputs": [
    {
     "data": {
      "text/plain": [
       "<Axes: xlabel='Insulin', ylabel='Density'>"
      ]
     },
     "execution_count": 10,
     "metadata": {},
     "output_type": "execute_result"
    },
    {
     "data": {
      "image/png": "[encoded data removed]",
      "text/plain": [
       "<Figure size 1000x500 with 2 Axes>"
      ]
     },
     "metadata": {},
     "output_type": "display_data"
    }
   ],
   "source": [
    "import seaborn as sns\n",
    "import matplotlib.pyplot as plt\n",
    "sns.set()\n",
    "fig,ax=plt.subplots(1,2)\n",
    "fig.set_size_inches(10,5)\n",
    "sns.kdeplot(data=diabetes,x='SkinThickness',ax=ax[0])\n",
    "sns.kdeplot(data=diabetes,x='Insulin',ax=ax[1])"
   ]
  },
  {
   "cell_type": "markdown",
   "id": "7d7c4f1c",
   "metadata": {},
   "source": [
    "From the above plots \n",
    "1) SkinThickness is almost normal hence imputing the NaN values with mean\n",
    "2) Insulin is skewed to the right hence median is the better choice to impute the column"
   ]
  },
  {
   "cell_type": "code",
   "execution_count": 14,
   "id": "7a515082",
   "metadata": {
    "scrolled": true
   },
   "outputs": [],
   "source": [
    "diabetes['SkinThickness'].fillna(diabetes['SkinThickness'].mean(),inplace=True)\n",
    "diabetes['Insulin'].fillna(diabetes['Insulin'].median(),inplace=True)"
   ]
  },
  {
   "cell_type": "code",
   "execution_count": 19,
   "id": "11d9e8e2",
   "metadata": {},
   "outputs": [
    {
     "name": "stdout",
     "output_type": "stream",
     "text": [
      "---------  Model 1 --------\n",
      "Best parameters of model 1 is {'max_depth': 6}\n",
      "Bets score of model 1 is 0.5926681294223471\n",
      "\n",
      "\n",
      "---------  Model 2 --------\n",
      "Best parameters of model 2 is {'min_samples_leaf': 58}\n",
      "Bets score of model 2 is 0.6375980594753587\n",
      "\n",
      "\n",
      "---------  Model 3 --------\n",
      "Best parameters of model 3 is {'max_depth': 6, 'min_samples_leaf': 58}\n",
      "Bets score of model 3 is 0.6375980594753587\n"
     ]
    }
   ],
   "source": [
    "from sklearn.tree import DecisionTreeClassifier\n",
    "from sklearn.model_selection import GridSearchCV,ShuffleSplit\n",
    "\n",
    "model_1_params={'max_depth':np.arange(1,30,5)}\n",
    "model_2_params={'min_samples_leaf':np.arange(1,100,3)}\n",
    "model_3_params={'max_depth':np.arange(1,30,5),'min_samples_leaf':np.arange(1,100,3)}\n",
    "\n",
    "decision=DecisionTreeClassifier()\n",
    "shuffle=ShuffleSplit(n_splits=100,random_state=True,test_size=0.2)\n",
    "\n",
    "features=diabetes.drop(['Outcome'],axis=1)\n",
    "target=diabetes['Outcome']\n",
    "\n",
    "model_1=GridSearchCV(decision,cv=shuffle,scoring='f1',param_grid=model_1_params)\n",
    "model_1.fit(features,target)\n",
    "print('---------  Model 1 --------')\n",
    "print(f'Best parameters of model 1 is {model_1.best_params_}')\n",
    "print(f'Best score of model 1 is {model_1.best_score_}')\n",
    "print('\\n')\n",
    "model_2=GridSearchCV(decision,cv=shuffle,scoring='f1',param_grid=model_2_params)\n",
    "model_2.fit(features,target)\n",
    "print('---------  Model 2 --------')\n",
    "print(f'Best parameters of model 2 is {model_2.best_params_}')\n",
    "print(f'Best score of model 2 is {model_2.best_score_}')\n",
    "print('\\n')\n",
    "model_3=GridSearchCV(decision,cv=shuffle,scoring='f1',param_grid=model_3_params)\n",
    "model_3.fit(features,target)\n",
    "print('---------  Model 3 --------')\n",
    "print(f'Best parameters of model 3 is {model_3.best_params_}')\n",
    "print(f'Best score of model 3 is {model_3.best_score_}')"
   ]
  },
  {
   "cell_type": "markdown",
   "id": "6787cd1a-2f64-43b3-abf5-ca00bdce93fc",
   "metadata": {},
   "source": [
    "---\n",
    "**Problem 3**\n",
    "\n",
    "Compare the performance of the best decision tree classifier and a random forest (with similar max_depth and min_samples_leaf).\n"
   ]
  },
  {
   "cell_type": "code",
   "execution_count": 23,
   "id": "99cef6ca",
   "metadata": {},
   "outputs": [
    {
     "name": "stdout",
     "output_type": "stream",
     "text": [
      "Bets score of Random Forest with same parameters as Decision Tree is 0.6375980594753587\n"
     ]
    }
   ],
   "source": [
    "from sklearn.ensemble import RandomForestClassifier\n",
    "\n",
    "forest=RandomForestClassifier()\n",
    "params_forest=model_3.best_params_\n",
    "\n",
    "for key,value in params_forest.items():\n",
    "    params_forest[key]=[value]\n",
    "\n",
    "forest_cv=GridSearchCV(forest,cv=shuffle,param_grid=params_forest,scoring='f1')\n",
    "forest_cv.fit(features,target)\n",
    "\n",
    "print(f'Best score of Random Forest with same parameters as Decision Tree is {model_3.best_score_}')"
   ]
  },
  {
   "cell_type": "markdown",
   "id": "ba999864-fd9e-4d3f-97ab-2f3768dd281b",
   "metadata": {},
   "source": [
    "---\n",
    "**Problem 4**\n",
    "\n",
    "By default, a random forest classifier uses 100 random trees (n_estimators). The larger the number of random trees, the longer it takes to train and predict.\n",
    "\n",
    "What is the smallest number random trees in a random forest do you need for a random forest classifer to outperform your best decision tree classifier?\n"
   ]
  },
  {
   "cell_type": "code",
   "execution_count": 35,
   "id": "fb6d3b51",
   "metadata": {
    "scrolled": true
   },
   "outputs": [
    {
     "name": "stdout",
     "output_type": "stream",
     "text": [
      "[{'max_depth': 6, 'min_samples_leaf': 58, 'n_estimators': 100}, {'max_depth': 6, 'min_samples_leaf': 58, 'n_estimators': 110}, {'max_depth': 6, 'min_samples_leaf': 58, 'n_estimators': 120}, {'max_depth': 6, 'min_samples_leaf': 58, 'n_estimators': 130}, {'max_depth': 6, 'min_samples_leaf': 58, 'n_estimators': 140}, {'max_depth': 6, 'min_samples_leaf': 58, 'n_estimators': 150}, {'max_depth': 6, 'min_samples_leaf': 58, 'n_estimators': 160}, {'max_depth': 6, 'min_samples_leaf': 58, 'n_estimators': 170}, {'max_depth': 6, 'min_samples_leaf': 58, 'n_estimators': 180}, {'max_depth': 6, 'min_samples_leaf': 58, 'n_estimators': 190}, {'max_depth': 6, 'min_samples_leaf': 58, 'n_estimators': 200}, {'max_depth': 6, 'min_samples_leaf': 58, 'n_estimators': 210}, {'max_depth': 6, 'min_samples_leaf': 58, 'n_estimators': 220}, {'max_depth': 6, 'min_samples_leaf': 58, 'n_estimators': 230}, {'max_depth': 6, 'min_samples_leaf': 58, 'n_estimators': 240}, {'max_depth': 6, 'min_samples_leaf': 58, 'n_estimators': 250}, {'max_depth': 6, 'min_samples_leaf': 58, 'n_estimators': 260}, {'max_depth': 6, 'min_samples_leaf': 58, 'n_estimators': 270}, {'max_depth': 6, 'min_samples_leaf': 58, 'n_estimators': 280}, {'max_depth': 6, 'min_samples_leaf': 58, 'n_estimators': 290}, {'max_depth': 6, 'min_samples_leaf': 58, 'n_estimators': 300}, {'max_depth': 6, 'min_samples_leaf': 58, 'n_estimators': 310}, {'max_depth': 6, 'min_samples_leaf': 58, 'n_estimators': 320}, {'max_depth': 6, 'min_samples_leaf': 58, 'n_estimators': 330}, {'max_depth': 6, 'min_samples_leaf': 58, 'n_estimators': 340}, {'max_depth': 6, 'min_samples_leaf': 58, 'n_estimators': 350}, {'max_depth': 6, 'min_samples_leaf': 58, 'n_estimators': 360}, {'max_depth': 6, 'min_samples_leaf': 58, 'n_estimators': 370}, {'max_depth': 6, 'min_samples_leaf': 58, 'n_estimators': 380}, {'max_depth': 6, 'min_samples_leaf': 58, 'n_estimators': 390}, {'max_depth': 6, 'min_samples_leaf': 58, 'n_estimators': 400}, {'max_depth': 6, 'min_samples_leaf': 58, 'n_estimators': 410}, {'max_depth': 6, 'min_samples_leaf': 58, 'n_estimators': 420}, {'max_depth': 6, 'min_samples_leaf': 58, 'n_estimators': 430}, {'max_depth': 6, 'min_samples_leaf': 58, 'n_estimators': 440}, {'max_depth': 6, 'min_samples_leaf': 58, 'n_estimators': 450}, {'max_depth': 6, 'min_samples_leaf': 58, 'n_estimators': 460}, {'max_depth': 6, 'min_samples_leaf': 58, 'n_estimators': 470}, {'max_depth': 6, 'min_samples_leaf': 58, 'n_estimators': 480}, {'max_depth': 6, 'min_samples_leaf': 58, 'n_estimators': 490}]\n",
      "[0.52926936 0.53374628 0.53395683 0.53202662 0.52264612 0.52919575\n",
      " 0.53270863 0.52989797 0.52995413 0.53126924 0.52675167 0.52860757\n",
      " 0.52804853 0.53274217 0.52827041 0.52945312 0.52849664 0.53164773\n",
      " 0.53272135 0.52915253 0.53138376 0.5276878  0.53009762 0.53235621\n",
      " 0.53034155 0.53257737 0.53180843 0.53247327 0.53047126 0.52971059\n",
      " 0.53028265 0.53058233 0.52929333 0.53030196 0.52770676 0.52906132\n",
      " 0.52861917 0.52616532 0.52762619 0.53091203]\n"
     ]
    }
   ],
   "source": [
    "params_forest_new={'n_estimators':np.arange(100,500,10),'max_depth':[6],'min_samples_leaf':[58]}\n",
    "\n",
    "forest_cv_new=GridSearchCV(forest,cv=shuffle,param_grid=params_forest_new,scoring='f1')\n",
    "forest_cv_new.fit(features,target)\n",
    "\n",
    "print(forest_cv_new.cv_results_['params'])\n",
    "print(forest_cv_new.cv_results_['mean_test_score'])"
   ]
  },
  {
   "cell_type": "markdown",
   "id": "e2c174e3-8820-4990-9f0e-2d705af14dc8",
   "metadata": {},
   "source": [
    "---\n",
    "**Problem 5**\n",
    "\n",
    "Compare the performance of the best decision tree classifier and logistic regression classifier.\n",
    "\n",
    "If your logistic regression classifer doesn't convert, you can increase max_iter.\n"
   ]
  },
  {
   "cell_type": "code",
   "execution_count": 26,
   "id": "143a62ff",
   "metadata": {},
   "outputs": [
    {
     "name": "stdout",
     "output_type": "stream",
     "text": [
      "Best score of Logistic Regression is 0.6292743207541572\n"
     ]
    }
   ],
   "source": [
    "from sklearn.linear_model import LogisticRegression\n",
    "\n",
    "log=LogisticRegression()\n",
    "params_log={'max_iter':[1000,10000,100000,1000000],'penalty':['l2']}\n",
    "\n",
    "log_cv=GridSearchCV(log,cv=shuffle,param_grid=params_log,scoring='f1')\n",
    "log_cv.fit(features,target)\n",
    "\n",
    "print(f'Best score of Logistic Regression is {log_cv.best_score_}')\n"
   ]
  }
 ],
 "metadata": {
  "kernelspec": {
   "display_name": "Python 3 (ipykernel)",
   "language": "python",
   "name": "python3"
  },
  "language_info": {
   "codemirror_mode": {
    "name": "ipython",
    "version": 3
   },
   "file_extension": ".py",
   "mimetype": "text/x-python",
   "name": "python",
   "nbconvert_exporter": "python",
   "pygments_lexer": "ipython3",
   "version": "3.10.9"
  }
 },
 "nbformat": 4,
 "nbformat_minor": 5
}
