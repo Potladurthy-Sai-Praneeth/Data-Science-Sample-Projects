{
 "cells": [
  {
   "cell_type": "markdown",
   "id": "f5074219-7448-4bc3-b680-63c7e7315f39",
   "metadata": {},
   "source": [
    "# COMP 7150 Assignment 3"
   ]
  },
  {
   "cell_type": "markdown",
   "id": "37b32ec3-3ec5-4c27-ae64-0d40609a26d4",
   "metadata": {},
   "source": [
    "NAME: _______________"
   ]
  },
  {
   "cell_type": "markdown",
   "id": "f36b0732-eadd-421f-9181-547e8570e7f1",
   "metadata": {},
   "source": [
    "---\n",
    "\n",
    "**How each problem is graded**\n",
    "\n",
    "This is a general guideline.  There might be some variant for a specific problem.\n",
    "\n",
    "* Answering the question in English: 25%\n",
    "    + Thorough answering the question, explaning the findings, discussing the comparison: 10-25%\n",
    "    + Not answering the question in English: 0%.\n",
    "    + Note: An answer is written in English to address a specific question. The answer must come first.  \n",
    "* Code: 50%\n",
    "    + Code is correct: 50%\n",
    "    + Code is correct, but missing some minor elements: 25-40%\n",
    "    + Incorrect solution, but make an effort: 10%-25%\n",
    "    + Empty: 0% \n",
    "    + Note: code is not an answer. Code shows how you get an answer.  Code comes after an answer.\n",
    "* Explanation of code: 10%\n",
    "    + Concise English explanation of solution/code: 10%\n",
    "    + No explanation: 0%\n",
    "* Testing: 15%\n",
    "    + Providing adequate testing of code: 15%\n",
    "    + Code operational but does not show how the answer(s) were generated: 5%\n",
    "    + Code not runnable or no testing: 0%\n",
    "\n",
    "\n",
    "**How to turn in your assignment**\n",
    "\n",
    "+ Export your notebook to an HTML file.\n",
    "+ Upload it to the appropriate folder in Assignments on Canvas."
   ]
  },
  {
   "cell_type": "markdown",
   "id": "25f76193-2495-448c-b6d8-993e05392941",
   "metadata": {},
   "source": [
    "**Each problem is worth 20 points**"
   ]
  },
  {
   "cell_type": "markdown",
   "id": "f7db3e6a-d75f-4737-8cb6-bfc753e07c09",
   "metadata": {},
   "source": [
    "#### Dataset\n",
    "\n",
    "The dataset you'll used for this assignment is diabetes.csv\n",
    "\n",
    "The target variable is Outcome. The other 8 variables are features.\n",
    "\n",
    "This dataset was collected from pregnant women.  Each row corresponds to a person.  An Outcome of 0 means the person is not diagnosed with diabetes.  An Outcome of 1 means the person is diagnosed with diabetes."
   ]
  },
  {
   "cell_type": "code",
   "execution_count": 1,
   "id": "e57682ed-20c2-4a2b-8039-a89904ee68a9",
   "metadata": {},
   "outputs": [
    {
     "data": {
      "text/html": [
       "<div>\n",
       "<style scoped>\n",
       "    .dataframe tbody tr th:only-of-type {\n",
       "        vertical-align: middle;\n",
       "    }\n",
       "\n",
       "    .dataframe tbody tr th {\n",
       "        vertical-align: top;\n",
       "    }\n",
       "\n",
       "    .dataframe thead th {\n",
       "        text-align: right;\n",
       "    }\n",
       "</style>\n",
       "<table border=\"1\" class=\"dataframe\">\n",
       "  <thead>\n",
       "    <tr style=\"text-align: right;\">\n",
       "      <th></th>\n",
       "      <th>Pregnancies</th>\n",
       "      <th>Glucose</th>\n",
       "      <th>BloodPressure</th>\n",
       "      <th>SkinThickness</th>\n",
       "      <th>Insulin</th>\n",
       "      <th>BMI</th>\n",
       "      <th>DiabetesPedigreeFunction</th>\n",
       "      <th>Age</th>\n",
       "      <th>Outcome</th>\n",
       "    </tr>\n",
       "  </thead>\n",
       "  <tbody>\n",
       "    <tr>\n",
       "      <th>0</th>\n",
       "      <td>6</td>\n",
       "      <td>148</td>\n",
       "      <td>72</td>\n",
       "      <td>35</td>\n",
       "      <td>0</td>\n",
       "      <td>33.6</td>\n",
       "      <td>0.627</td>\n",
       "      <td>50</td>\n",
       "      <td>1</td>\n",
       "    </tr>\n",
       "    <tr>\n",
       "      <th>1</th>\n",
       "      <td>1</td>\n",
       "      <td>85</td>\n",
       "      <td>66</td>\n",
       "      <td>29</td>\n",
       "      <td>0</td>\n",
       "      <td>26.6</td>\n",
       "      <td>0.351</td>\n",
       "      <td>31</td>\n",
       "      <td>0</td>\n",
       "    </tr>\n",
       "    <tr>\n",
       "      <th>2</th>\n",
       "      <td>8</td>\n",
       "      <td>183</td>\n",
       "      <td>64</td>\n",
       "      <td>0</td>\n",
       "      <td>0</td>\n",
       "      <td>23.3</td>\n",
       "      <td>0.672</td>\n",
       "      <td>32</td>\n",
       "      <td>1</td>\n",
       "    </tr>\n",
       "    <tr>\n",
       "      <th>3</th>\n",
       "      <td>1</td>\n",
       "      <td>89</td>\n",
       "      <td>66</td>\n",
       "      <td>23</td>\n",
       "      <td>94</td>\n",
       "      <td>28.1</td>\n",
       "      <td>0.167</td>\n",
       "      <td>21</td>\n",
       "      <td>0</td>\n",
       "    </tr>\n",
       "    <tr>\n",
       "      <th>4</th>\n",
       "      <td>0</td>\n",
       "      <td>137</td>\n",
       "      <td>40</td>\n",
       "      <td>35</td>\n",
       "      <td>168</td>\n",
       "      <td>43.1</td>\n",
       "      <td>2.288</td>\n",
       "      <td>33</td>\n",
       "      <td>1</td>\n",
       "    </tr>\n",
       "  </tbody>\n",
       "</table>\n",
       "</div>"
      ],
      "text/plain": [
       "   Pregnancies  Glucose  BloodPressure  SkinThickness  Insulin   BMI  \\\n",
       "0            6      148             72             35        0  33.6   \n",
       "1            1       85             66             29        0  26.6   \n",
       "2            8      183             64              0        0  23.3   \n",
       "3            1       89             66             23       94  28.1   \n",
       "4            0      137             40             35      168  43.1   \n",
       "\n",
       "   DiabetesPedigreeFunction  Age  Outcome  \n",
       "0                     0.627   50        1  \n",
       "1                     0.351   31        0  \n",
       "2                     0.672   32        1  \n",
       "3                     0.167   21        0  \n",
       "4                     2.288   33        1  "
      ]
     },
     "execution_count": 1,
     "metadata": {},
     "output_type": "execute_result"
    }
   ],
   "source": [
    "import pandas as pd\n",
    "\n",
    "diabetes = pd.read_csv('./../Sem_2/Diabetes/diabetes.csv')\n",
    "\n",
    "diabetes.head()"
   ]
  },
  {
   "cell_type": "markdown",
   "id": "52106bb5-a98b-4d79-8446-c8915aa91307",
   "metadata": {},
   "source": [
    "---\n",
    "\n",
    "**Problem 1**\n",
    "\n",
    "Suppose that we are interested in finding which feature is relevant to the target variable, Outcome, i.e. which feature does the target is most dependent on.\n",
    "\n",
    "Which variables do we use chi2? Which variables do we use f_classif?\n",
    "\n",
    "Explain your answer."
   ]
  },
  {
   "cell_type": "markdown",
   "id": "1da20935",
   "metadata": {},
   "source": [
    "1) Chi2 is used for categorical variables in the dataset\n",
    "2) f_classif is not only used for categorical but also for continuous variable with comaparble means."
   ]
  },
  {
   "cell_type": "markdown",
   "id": "942930c8-963a-4785-84c0-c0fe8e292221",
   "metadata": {},
   "source": [
    "---\n",
    "\n",
    "**Problem 2**\n",
    "\n",
    "Between Pregnancies, BloodPressure, BMI, and Age, which feature is the target variable least dependent on?  i.e. which feature is least relevant to the target?\n",
    "\n",
    "Explain how you obtain your answer.\n"
   ]
  },
  {
   "cell_type": "code",
   "execution_count": 2,
   "id": "8d479781",
   "metadata": {
    "scrolled": true
   },
   "outputs": [
    {
     "data": {
      "text/html": [
       "<div>\n",
       "<style scoped>\n",
       "    .dataframe tbody tr th:only-of-type {\n",
       "        vertical-align: middle;\n",
       "    }\n",
       "\n",
       "    .dataframe tbody tr th {\n",
       "        vertical-align: top;\n",
       "    }\n",
       "\n",
       "    .dataframe thead th {\n",
       "        text-align: right;\n",
       "    }\n",
       "</style>\n",
       "<table border=\"1\" class=\"dataframe\">\n",
       "  <thead>\n",
       "    <tr style=\"text-align: right;\">\n",
       "      <th></th>\n",
       "      <th>score</th>\n",
       "      <th>p-value</th>\n",
       "      <th>Feature names</th>\n",
       "    </tr>\n",
       "  </thead>\n",
       "  <tbody>\n",
       "    <tr>\n",
       "      <th>0</th>\n",
       "      <td>29.737617</td>\n",
       "      <td>7.185370e-08</td>\n",
       "      <td>Pregnancies</td>\n",
       "    </tr>\n",
       "    <tr>\n",
       "      <th>1</th>\n",
       "      <td>160.028168</td>\n",
       "      <td>9.498030e-33</td>\n",
       "      <td>Glucose</td>\n",
       "    </tr>\n",
       "    <tr>\n",
       "      <th>2</th>\n",
       "      <td>4.805496</td>\n",
       "      <td>2.874500e-02</td>\n",
       "      <td>BloodPressure</td>\n",
       "    </tr>\n",
       "    <tr>\n",
       "      <th>3</th>\n",
       "      <td>5.065700</td>\n",
       "      <td>2.475801e-02</td>\n",
       "      <td>SkinThickness</td>\n",
       "    </tr>\n",
       "    <tr>\n",
       "      <th>4</th>\n",
       "      <td>8.819498</td>\n",
       "      <td>3.097021e-03</td>\n",
       "      <td>Insulin</td>\n",
       "    </tr>\n",
       "    <tr>\n",
       "      <th>5</th>\n",
       "      <td>58.321238</td>\n",
       "      <td>8.606536e-14</td>\n",
       "      <td>BMI</td>\n",
       "    </tr>\n",
       "    <tr>\n",
       "      <th>6</th>\n",
       "      <td>16.164705</td>\n",
       "      <td>6.531631e-05</td>\n",
       "      <td>DiabetesPedigreeFunction</td>\n",
       "    </tr>\n",
       "    <tr>\n",
       "      <th>7</th>\n",
       "      <td>28.074835</td>\n",
       "      <td>1.630878e-07</td>\n",
       "      <td>Age</td>\n",
       "    </tr>\n",
       "  </tbody>\n",
       "</table>\n",
       "</div>"
      ],
      "text/plain": [
       "        score       p-value             Feature names\n",
       "0   29.737617  7.185370e-08               Pregnancies\n",
       "1  160.028168  9.498030e-33                   Glucose\n",
       "2    4.805496  2.874500e-02             BloodPressure\n",
       "3    5.065700  2.475801e-02             SkinThickness\n",
       "4    8.819498  3.097021e-03                   Insulin\n",
       "5   58.321238  8.606536e-14                       BMI\n",
       "6   16.164705  6.531631e-05  DiabetesPedigreeFunction\n",
       "7   28.074835  1.630878e-07                       Age"
      ]
     },
     "execution_count": 2,
     "metadata": {},
     "output_type": "execute_result"
    }
   ],
   "source": [
    "from sklearn.model_selection import train_test_split\n",
    "from sklearn.feature_selection import SelectKBest, f_classif\n",
    "\n",
    "X=diabetes.drop('Outcome',axis=1)\n",
    "y=diabetes['Outcome']\n",
    "\n",
    "\n",
    "def split_data(X,y):\n",
    "    return train_test_split(X,y,stratify=y,test_size=0.2,random_state=826)\n",
    "\n",
    "X_train,X_test,y_train,y_test=split_data(X,y)\n",
    "  \n",
    "selector = SelectKBest(f_classif,k='all')\n",
    "selector.fit(X_train, y_train)\n",
    "\n",
    "relevant_scores = pd.DataFrame()\n",
    "relevant_scores['score']=selector.scores_\n",
    "relevant_scores['p-value']=selector.pvalues_\n",
    "relevant_scores['Feature names']=selector.get_feature_names_out()\n",
    "\n",
    "relevant_scores"
   ]
  },
  {
   "cell_type": "markdown",
   "id": "e96c02b1",
   "metadata": {},
   "source": [
    "1) Out of all the features Blood Pressure is least dependent on target variable Outcome."
   ]
  },
  {
   "cell_type": "markdown",
   "id": "c815f232-2640-409f-bb45-92c09f078260",
   "metadata": {},
   "source": [
    "---\n",
    "\n",
    "**Problem 3**\n",
    "\n",
    "Using the provided data, build and train two KNN models with 9 neighbors. The first model uses two features Pregnancies and BloodPressure. The second models uses BMI and Age.\n",
    "\n"
   ]
  },
  {
   "cell_type": "code",
   "execution_count": 3,
   "id": "1516c4e6",
   "metadata": {},
   "outputs": [
    {
     "name": "stdout",
     "output_type": "stream",
     "text": [
      "Model 1 accuracy score is 0.6168831168831169 using Pregnancies and BloodPressure as features\n",
      "Model 2 accuracy score is 0.6753246753246753 using BMI and Age as features\n"
     ]
    }
   ],
   "source": [
    "from sklearn.neighbors import KNeighborsClassifier as KNN\n",
    "\n",
    "# Model 1\n",
    "X_1=diabetes[['Pregnancies','BloodPressure']]\n",
    "\n",
    "# Model 2\n",
    "X_2 = diabetes[['BMI','Age']]\n",
    "\n",
    "X_train_1,X_test_1,y_train_1,y_test_1=split_data(X_1,y)\n",
    "\n",
    "X_train_2,X_test_2,y_train_2,y_test_2=split_data(X_2,y)\n",
    "\n",
    "knn=KNN(n_neighbors=9)\n",
    "\n",
    "def fitting_model(a,b):\n",
    "    return knn.fit(a,b)\n",
    "\n",
    "knn_1=fitting_model(X_train_1,y_train_1)\n",
    "\n",
    "print(f'Model 1 accuracy score is {knn_1.score(X_test_1,y_test_1)} using Pregnancies and BloodPressure as features')\n",
    "\n",
    "knn_2=fitting_model(X_train_2,y_train_2)\n",
    "\n",
    "print(f'Model 2 accuracy score is {knn_2.score(X_test_2,y_test_2)} using BMI and Age as features')\n"
   ]
  },
  {
   "cell_type": "markdown",
   "id": "5f206bba-49b8-47ae-9a98-6613aa6d4052",
   "metadata": {},
   "source": [
    "---\n",
    "\n",
    "**Problem 4**\n",
    "\n",
    "Use the data from the following rows as test data to compute the accuracy, precision and recall of the two models in the previous questions.\n",
    "```\n",
    "[356, 244, 218, 346, 291, 302, 137, 634, 710, 395, 551, 526, 554, 748, 116,  83, 241, 280, 290, 552]\n",
    "```\n",
    "\n",
    "Explain your solution, and test your code."
   ]
  },
  {
   "cell_type": "code",
   "execution_count": 4,
   "id": "ad8fdb27",
   "metadata": {},
   "outputs": [
    {
     "name": "stdout",
     "output_type": "stream",
     "text": [
      "----Model 1---\n",
      "Accuracy score is 0.7\n",
      "Precision score is 0.0\n",
      "Recall score is 0.0\n",
      "\n",
      "\n",
      "----Model 2---\n",
      "Accuracy score is 0.75\n",
      "Precision score is 0.6666666666666666\n",
      "Recall score is 0.3333333333333333\n"
     ]
    },
    {
     "name": "stderr",
     "output_type": "stream",
     "text": [
      "C:\\Users\\pspra\\anaconda3\\lib\\site-packages\\sklearn\\base.py:420: UserWarning: X does not have valid feature names, but KNeighborsClassifier was fitted with feature names\n",
      "  warnings.warn(\n",
      "C:\\Users\\pspra\\anaconda3\\lib\\site-packages\\sklearn\\base.py:420: UserWarning: X does not have valid feature names, but KNeighborsClassifier was fitted with feature names\n",
      "  warnings.warn(\n",
      "C:\\Users\\pspra\\anaconda3\\lib\\site-packages\\sklearn\\metrics\\_classification.py:1344: UndefinedMetricWarning: Precision is ill-defined and being set to 0.0 due to no predicted samples. Use `zero_division` parameter to control this behavior.\n",
      "  _warn_prf(average, modifier, msg_start, len(result))\n"
     ]
    }
   ],
   "source": [
    "from sklearn.metrics import confusion_matrix\n",
    "from sklearn.metrics import precision_score, recall_score, f1_score, accuracy_score\n",
    "\n",
    "index_list=[356, 244, 218, 346, 291, 302, 137, 634, 710, 395, 551, 526, 554, 748, 116,  83, 241, 280, 290, 552]\n",
    "\n",
    "filtered_diabetes=diabetes.loc[index_list]\n",
    "\n",
    "filtered_y=filtered_diabetes['Outcome'].values\n",
    "\n",
    "filtered_x_1=filtered_diabetes[['Pregnancies','BloodPressure']].values\n",
    "\n",
    "filtered_x_2=filtered_diabetes[['BMI','Age']].values\n",
    "\n",
    "y_pred_1=knn_1.predict(filtered_x_1)\n",
    "\n",
    "y_pred_2=knn_2.predict(filtered_x_2)\n",
    "\n",
    "print('----Model 1---')\n",
    "print(f'Accuracy score is {accuracy_score(filtered_y,y_pred_1)}')\n",
    "print(f'Precision score is {precision_score(filtered_y,y_pred_1)}')\n",
    "print(f'Recall score is {recall_score(filtered_y,y_pred_1)}')\n",
    "\n",
    "print('\\n')\n",
    "print('----Model 2---')\n",
    "print(f'Accuracy score is {accuracy_score(filtered_y,y_pred_2)}')\n",
    "print(f'Precision score is {precision_score(filtered_y,y_pred_2)}')\n",
    "print(f'Recall score is {recall_score(filtered_y,y_pred_2)}')"
   ]
  },
  {
   "cell_type": "markdown",
   "id": "e6d38493-60a1-49ed-8029-fe69da55b016",
   "metadata": {},
   "source": [
    "---\n",
    "\n",
    "**Problem 5**\n",
    "\n",
    "Choose the 4 most relevant features using f_classif, and build a KNN model with these 4 features.\n",
    "\n",
    "Report the accuracy, precision, and recall of the model on the test data obtained from the same rows as shown in the previous problem."
   ]
  },
  {
   "cell_type": "code",
   "execution_count": 5,
   "id": "ea5a4b8c",
   "metadata": {},
   "outputs": [
    {
     "name": "stdout",
     "output_type": "stream",
     "text": [
      "Accuracy score is 0.75\n",
      "Precision score is 0.6666666666666666\n",
      "Recall score is 0.3333333333333333\n"
     ]
    },
    {
     "name": "stderr",
     "output_type": "stream",
     "text": [
      "C:\\Users\\pspra\\anaconda3\\lib\\site-packages\\sklearn\\base.py:420: UserWarning: X does not have valid feature names, but KNeighborsClassifier was fitted with feature names\n",
      "  warnings.warn(\n"
     ]
    }
   ],
   "source": [
    "features=['Glucose','Pregnancies','Age','BMI']\n",
    "X_train_4,X_test_4,y_train_4,y_test_4=train_test_split(diabetes[features],y,stratify=y,test_size=0.2,random_state=826)\n",
    "\n",
    "knn_4=fitting_model(X_train_4,y_train_4)\n",
    "\n",
    "filtered_x_4=filtered_diabetes[features].values\n",
    "\n",
    "y_pred_4=knn_4.predict(filtered_x_4)\n",
    "\n",
    "print(f'Accuracy score is {accuracy_score(filtered_y,y_pred_4)}')\n",
    "print(f'Precision score is {precision_score(filtered_y,y_pred_4)}')\n",
    "print(f'Recall score is {recall_score(filtered_y,y_pred_4)}')"
   ]
  }
 ],
 "metadata": {
  "kernelspec": {
   "display_name": "Python 3 (ipykernel)",
   "language": "python",
   "name": "python3"
  },
  "language_info": {
   "codemirror_mode": {
    "name": "ipython",
    "version": 3
   },
   "file_extension": ".py",
   "mimetype": "text/x-python",
   "name": "python",
   "nbconvert_exporter": "python",
   "pygments_lexer": "ipython3",
   "version": "3.10.9"
  }
 },
 "nbformat": 4,
 "nbformat_minor": 5
}
