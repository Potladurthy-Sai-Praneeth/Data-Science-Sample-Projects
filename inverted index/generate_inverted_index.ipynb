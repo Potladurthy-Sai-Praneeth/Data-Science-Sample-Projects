{
 "cells": [
  {
   "cell_type": "code",
   "execution_count": 1,
   "id": "ca1aca7d",
   "metadata": {},
   "outputs": [],
   "source": [
    "import nltk\n",
    "from collections import defaultdict\n",
    "from nltk.tokenize import sent_tokenize, word_tokenize\n",
    "#nltk.download()"
   ]
  },
  {
   "cell_type": "code",
   "execution_count": 2,
   "id": "9b1bd576",
   "metadata": {},
   "outputs": [],
   "source": [
    "import os\n",
    "from nltk.stem import snowball\n",
    "stemmer = snowball.SnowballStemmer('english')\n",
    "input_files_path='./../processing text files/output files/'\n",
    "corpus=[]\n",
    "inverted_index = defaultdict(set)\n",
    "\n",
    "for file in os.listdir(input_files_path):\n",
    "    with open(input_files_path+file,'r') as handler:\n",
    "        corpus.append(handler.read())\n",
    "\n",
    "def generate_index(cor):\n",
    "    for doc_id, doc_text in enumerate(cor):\n",
    "        for sent in sent_tokenize(doc_text):\n",
    "            for word in word_tokenize(sent):\n",
    "                term_frequency=doc_text.count(word)\n",
    "                word_stem = stemmer.stem(word)\n",
    "                inverted_index[word_stem].add(f'Document id {doc_id}: Appeared {term_frequency} times')\n",
    "\n",
    "generate_index(corpus)\n",
    "\n",
    "with open('./inverted_index.txt','w') as new_file:\n",
    "    for word,index in inverted_index.items():\n",
    "        new_file.write(str(word)+' : '+str(list(index)))\n",
    "        new_file.write('\\n')"
   ]
  },
  {
   "cell_type": "code",
   "execution_count": 3,
   "id": "db4d013d",
   "metadata": {},
   "outputs": [],
   "source": [
    "from nltk.corpus import stopwords\n",
    "from collections import Counter\n",
    "stop_words = stopwords.words('english')\n",
    "stopwords_dict = Counter(stop_words)\n",
    "\n",
    "def search_query(query):\n",
    "    matched_documents = set()\n",
    "    for word in word_tokenize(query):\n",
    "        word_lower = word.lower()\n",
    "        if word_lower not in stopwords_dict:\n",
    "            word_stem = stemmer.stem(word_lower)\n",
    "            matches = inverted_index.get(word_stem)\n",
    "            if matches:\n",
    "                # The operator |= is a short hand for set union to get matching from either of words\n",
    "                matched_documents = matches\n",
    "    return matched_documents\n"
   ]
  },
  {
   "cell_type": "code",
   "execution_count": 4,
   "id": "772bed81",
   "metadata": {
    "scrolled": true
   },
   "outputs": [
    {
     "data": {
      "text/plain": [
       "{'Document id 105: Appeared 2 times',\n",
       " 'Document id 10: Appeared 2 times',\n",
       " 'Document id 115: Appeared 2 times',\n",
       " 'Document id 18: Appeared 3 times',\n",
       " 'Document id 19: Appeared 31 times',\n",
       " 'Document id 25: Appeared 3 times',\n",
       " 'Document id 29: Appeared 3 times',\n",
       " 'Document id 2: Appeared 12 times',\n",
       " 'Document id 38: Appeared 1 times',\n",
       " 'Document id 40: Appeared 5 times',\n",
       " 'Document id 43: Appeared 4 times',\n",
       " 'Document id 49: Appeared 2 times',\n",
       " 'Document id 52: Appeared 2 times',\n",
       " 'Document id 53: Appeared 6 times',\n",
       " 'Document id 55: Appeared 3 times',\n",
       " 'Document id 57: Appeared 17 times',\n",
       " 'Document id 58: Appeared 2 times',\n",
       " 'Document id 63: Appeared 15 times',\n",
       " 'Document id 64: Appeared 1 times',\n",
       " 'Document id 76: Appeared 1 times',\n",
       " 'Document id 77: Appeared 3 times',\n",
       " 'Document id 78: Appeared 9 times',\n",
       " 'Document id 7: Appeared 2 times',\n",
       " 'Document id 80: Appeared 5 times',\n",
       " 'Document id 96: Appeared 5 times',\n",
       " 'Document id 98: Appeared 2 times'}"
      ]
     },
     "execution_count": 4,
     "metadata": {},
     "output_type": "execute_result"
    }
   ],
   "source": [
    "search_query('memphis data')"
   ]
  },
  {
   "cell_type": "code",
   "execution_count": null,
   "id": "fbd479df",
   "metadata": {},
   "outputs": [],
   "source": []
  }
 ],
 "metadata": {
  "kernelspec": {
   "display_name": "Python 3 (ipykernel)",
   "language": "python",
   "name": "python3"
  },
  "language_info": {
   "codemirror_mode": {
    "name": "ipython",
    "version": 3
   },
   "file_extension": ".py",
   "mimetype": "text/x-python",
   "name": "python",
   "nbconvert_exporter": "python",
   "pygments_lexer": "ipython3",
   "version": "3.10.9"
  }
 },
 "nbformat": 4,
 "nbformat_minor": 5
}
