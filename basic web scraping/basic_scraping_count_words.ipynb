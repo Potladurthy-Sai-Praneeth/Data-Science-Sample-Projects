{
 "cells": [
  {
   "cell_type": "code",
   "execution_count": 1,
   "id": "4bd8b16f",
   "metadata": {},
   "outputs": [],
   "source": [
    "from bs4 import BeautifulSoup\n",
    "import re\n",
    "import requests\n",
    "\n",
    "url='https://www.memphis.edu/datascience/'\n",
    "res=requests.get(url) # gets entire html script as it is res.text is a html file.\n",
    "\n",
    "#BeautifulSoup(res.text) is a html code \n",
    "soup=BeautifulSoup(res.text)\n",
    "#soup.get_text() gives the entire text with indentations, newlines ... as a big string\n",
    "\n",
    "text_str=soup.get_text()\n",
    "\n",
    "new=re.findall(r'[^\\W\\d]+', text_str)\n",
    "\n",
    "import pandas as pd\n",
    "\n",
    "my_df=pd.DataFrame()\n",
    "my_df['words']=new\n",
    "\n",
    "my_df['words']=my_df['words'].apply(lambda x: str.capitalize(x))\n",
    "\n",
    "#print(my_df[my_df['words']=='Masters'].count().to_list()[0])\n",
    "\n",
    "my_df['count']=my_df['words'].apply(lambda x : my_df[my_df['words']==x].count().to_list()[0])\n",
    "\n",
    "my_df.drop_duplicates(inplace=True)\n",
    "\n",
    "my_df.sort_values(by='words',ascending=True,inplace=True)\n",
    "\n",
    "my_df.to_csv('All_words_count.csv')"
   ]
  }
 ],
 "metadata": {
  "kernelspec": {
   "display_name": "Python 3 (ipykernel)",
   "language": "python",
   "name": "python3"
  },
  "language_info": {
   "codemirror_mode": {
    "name": "ipython",
    "version": 3
   },
   "file_extension": ".py",
   "mimetype": "text/x-python",
   "name": "python",
   "nbconvert_exporter": "python",
   "pygments_lexer": "ipython3",
   "version": "3.10.9"
  }
 },
 "nbformat": 4,
 "nbformat_minor": 5
}
